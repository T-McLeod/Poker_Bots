{
 "cells": [
  {
   "cell_type": "code",
   "execution_count": 1,
   "metadata": {},
   "outputs": [],
   "source": [
    "from Kuhn.kuhn_poker import Game\n",
    "from Kuhn.players.game_strategy import Game_Strategy\n",
    "from Kuhn.players.human_player import Human_Player"
   ]
  },
  {
   "cell_type": "code",
   "execution_count": 1,
   "metadata": {},
   "outputs": [
    {
     "ename": "NameError",
     "evalue": "name 'Game' is not defined",
     "output_type": "error",
     "traceback": [
      "\u001b[0;31m---------------------------------------------------------------------------\u001b[0m",
      "\u001b[0;31mNameError\u001b[0m                                 Traceback (most recent call last)",
      "Cell \u001b[0;32mIn[1], line 1\u001b[0m\n\u001b[0;32m----> 1\u001b[0m game \u001b[38;5;241m=\u001b[39m \u001b[43mGame\u001b[49m()\n\u001b[1;32m      2\u001b[0m game\u001b[38;5;241m.\u001b[39mplayer1 \u001b[38;5;241m=\u001b[39m Game_Strategy()\n\u001b[1;32m      3\u001b[0m game\u001b[38;5;241m.\u001b[39mplayer2 \u001b[38;5;241m=\u001b[39m Game_Strategy()\n",
      "\u001b[0;31mNameError\u001b[0m: name 'Game' is not defined"
     ]
    }
   ],
   "source": [
    "game = Game()\n",
    "game.player1 = Game_Strategy()\n",
    "game.player2 = Game_Strategy()\n",
    "game.play_game()"
   ]
  }
 ],
 "metadata": {
  "kernelspec": {
   "display_name": ".venv",
   "language": "python",
   "name": "python3"
  },
  "language_info": {
   "codemirror_mode": {
    "name": "ipython",
    "version": 3
   },
   "file_extension": ".py",
   "mimetype": "text/x-python",
   "name": "python",
   "nbconvert_exporter": "python",
   "pygments_lexer": "ipython3",
   "version": "3.12.6"
  }
 },
 "nbformat": 4,
 "nbformat_minor": 2
}
